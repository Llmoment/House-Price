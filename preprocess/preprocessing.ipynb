{
 "cells": [
  {
   "cell_type": "code",
   "execution_count": 1,
   "metadata": {},
   "outputs": [
    {
     "data": {
      "text/plain": [
       "array(['Unnamed: 0', '所属小区', '所在位置', '建造年代', '房屋类型', '产权年限', '产权性质',\n",
       "       '房屋户型', '建筑面积', '房屋朝向', '所在楼层', '配套电梯', '唯一住房', '房屋单价', '参考首付',\n",
       "       '参考月供', '装修程度', '房本年限', '一手房源'], dtype=object)"
      ]
     },
     "execution_count": 1,
     "metadata": {},
     "output_type": "execute_result"
    }
   ],
   "source": [
    "import pandas as pd\n",
    "data = pd.read_csv('house_label.csv',sep=',',encoding='utf_8_sig')\n",
    "data.columns.values"
   ]
  },
  {
   "cell_type": "code",
   "execution_count": 2,
   "metadata": {
    "scrolled": true
   },
   "outputs": [],
   "source": [
    "import re\n",
    "feature = '建造年代'\n",
    "for i in range(data.shape[0]):\n",
    "    str = re.findall(r\"\\d+\",data.loc[i,feature])\n",
    "    if str:\n",
    "        data.loc[i,feature] = int(str[0])\n",
    "    else:\n",
    "        data.loc[i,feature] = 'unknown'"
   ]
  },
  {
   "cell_type": "code",
   "execution_count": 3,
   "metadata": {},
   "outputs": [
    {
     "name": "stdout",
     "output_type": "stream",
     "text": [
      "10.1平方米\n"
     ]
    }
   ],
   "source": [
    "feature = '建筑面积'\n",
    "print(data.loc[0,feature])\n",
    "for i in range(data.shape[0]):\n",
    "    str = re.findall(r\"\\d+.?\\d+\",data.loc[i,feature])\n",
    "    if str:\n",
    "        data.loc[i,feature] = float(str[0])\n",
    "    else:\n",
    "        print(\"Error in \",i)\n"
   ]
  },
  {
   "cell_type": "code",
   "execution_count": 4,
   "metadata": {},
   "outputs": [],
   "source": [
    "feature = '产权年限'\n",
    "for i in range(data.shape[0]):\n",
    "    str = re.findall(r\"\\d+\",data.loc[i,feature])\n",
    "    if str:\n",
    "        data.loc[i,feature] = int(str[0])\n",
    "    else:\n",
    "        data.loc[i,feature] = 'unknown'\n",
    "        print('error in ', i)"
   ]
  },
  {
   "cell_type": "code",
   "execution_count": 5,
   "metadata": {},
   "outputs": [
    {
     "data": {
      "text/plain": [
       "70    39003\n",
       "0      1202\n",
       "50      328\n",
       "40      151\n",
       "Name: 产权年限, dtype: int64"
      ]
     },
     "execution_count": 5,
     "metadata": {},
     "output_type": "execute_result"
    }
   ],
   "source": [
    "data[feature].value_counts()"
   ]
  },
  {
   "cell_type": "code",
   "execution_count": 6,
   "metadata": {},
   "outputs": [
    {
     "data": {
      "text/plain": [
       "普通住宅    36213\n",
       "公寓       2787\n",
       "别墅       1228\n",
       "平房        210\n",
       "暂无         90\n",
       "新里洋房       82\n",
       "老公房        74\n",
       "Name: 房屋类型, dtype: int64"
      ]
     },
     "execution_count": 6,
     "metadata": {},
     "output_type": "execute_result"
    }
   ],
   "source": [
    "feature = '房屋类型'\n",
    "data[feature].value_counts()"
   ]
  },
  {
   "cell_type": "code",
   "execution_count": 7,
   "metadata": {},
   "outputs": [],
   "source": [
    "house_type_dic = {'普通住宅':1,'公寓':2,'别墅':3,'暂无':'unknown','平房':4,'老公房':5,'新里洋房':6}\n",
    "for i in range(data.shape[0]):\n",
    "    htype =  house_type_dic[data.loc[i,feature]]\n",
    "    if htype:\n",
    "        data.loc[i,feature] = htype\n",
    "    else:\n",
    "        print('error in ',i)"
   ]
  },
  {
   "cell_type": "code",
   "execution_count": 8,
   "metadata": {},
   "outputs": [
    {
     "data": {
      "text/plain": [
       "商品房      36190\n",
       "公房        1775\n",
       "0         1242\n",
       "其他         778\n",
       "商住两用       411\n",
       "经济适用房      285\n",
       "使用权          3\n",
       "Name: 产权性质, dtype: int64"
      ]
     },
     "execution_count": 8,
     "metadata": {},
     "output_type": "execute_result"
    }
   ],
   "source": [
    "feature = '产权性质'\n",
    "data[feature].value_counts()"
   ]
  },
  {
   "cell_type": "code",
   "execution_count": 9,
   "metadata": {},
   "outputs": [],
   "source": [
    "property_type_dic = {'商品房':1,'0':'unknown','公房':2,'经济适用房':3,'商住两用':4,'其他':5,'使用权':5}\n",
    "for i in range(data.shape[0]):\n",
    "    ptype =  property_type_dic[data.loc[i,feature]]\n",
    "    data.loc[i,feature] = ptype"
   ]
  },
  {
   "cell_type": "code",
   "execution_count": 10,
   "metadata": {},
   "outputs": [
    {
     "data": {
      "text/plain": [
       "1          36190\n",
       "2           1775\n",
       "unknown     1242\n",
       "5            781\n",
       "4            411\n",
       "3            285\n",
       "Name: 产权性质, dtype: int64"
      ]
     },
     "execution_count": 10,
     "metadata": {},
     "output_type": "execute_result"
    }
   ],
   "source": [
    "data[feature].value_counts()"
   ]
  },
  {
   "cell_type": "code",
   "execution_count": 11,
   "metadata": {},
   "outputs": [
    {
     "data": {
      "text/plain": [
       "南北    20885\n",
       "南     18437\n",
       "东       470\n",
       "东南      326\n",
       "西南      176\n",
       "北       140\n",
       "西       115\n",
       "西北       59\n",
       "东西       55\n",
       "东北       21\n",
       "Name: 房屋朝向, dtype: int64"
      ]
     },
     "execution_count": 11,
     "metadata": {},
     "output_type": "execute_result"
    }
   ],
   "source": [
    "feature = '房屋朝向'\n",
    "data[feature].value_counts()"
   ]
  },
  {
   "cell_type": "code",
   "execution_count": 12,
   "metadata": {},
   "outputs": [],
   "source": [
    "direction_dic = {'东':1,'南':2,'西':3,'北':4,'东南':5,'西南':6,'西北':7,'东北':8,'东西':9,'南北':10}\n",
    "for i in range(data.shape[0]):\n",
    "    data.loc[i,feature] = direction_dic[data.loc[i,feature]]"
   ]
  },
  {
   "cell_type": "code",
   "execution_count": 13,
   "metadata": {},
   "outputs": [
    {
     "data": {
      "text/plain": [
       "10    20885\n",
       "2     18437\n",
       "1       470\n",
       "5       326\n",
       "6       176\n",
       "4       140\n",
       "3       115\n",
       "7        59\n",
       "9        55\n",
       "8        21\n",
       "Name: 房屋朝向, dtype: int64"
      ]
     },
     "execution_count": 13,
     "metadata": {},
     "output_type": "execute_result"
    }
   ],
   "source": [
    "data[feature].value_counts()"
   ]
  },
  {
   "cell_type": "code",
   "execution_count": 14,
   "metadata": {},
   "outputs": [
    {
     "data": {
      "text/plain": [
       "有    21401\n",
       "无    18176\n",
       "0     1107\n",
       "Name: 配套电梯, dtype: int64"
      ]
     },
     "execution_count": 14,
     "metadata": {},
     "output_type": "execute_result"
    }
   ],
   "source": [
    "feature = '配套电梯'\n",
    "data[feature].value_counts()"
   ]
  },
  {
   "cell_type": "code",
   "execution_count": 15,
   "metadata": {},
   "outputs": [
    {
     "data": {
      "text/plain": [
       "1          21401\n",
       "0          18176\n",
       "unknown     1107\n",
       "Name: 配套电梯, dtype: int64"
      ]
     },
     "execution_count": 15,
     "metadata": {},
     "output_type": "execute_result"
    }
   ],
   "source": [
    "for i in range(data.shape[0]):\n",
    "    if data.loc[i,feature] == '无':\n",
    "        data.loc[i,feature] = 0\n",
    "    elif data.loc[i,feature] == '有':\n",
    "        data.loc[i,feature] = 1\n",
    "    else:\n",
    "        data.loc[i,feature] = 'unknown'\n",
    "data[feature].value_counts()"
   ]
  },
  {
   "cell_type": "code",
   "execution_count": 16,
   "metadata": {},
   "outputs": [
    {
     "data": {
      "text/plain": [
       "是     33262\n",
       "否      3802\n",
       "暂无     3620\n",
       "Name: 唯一住房, dtype: int64"
      ]
     },
     "execution_count": 16,
     "metadata": {},
     "output_type": "execute_result"
    }
   ],
   "source": [
    "feature = '唯一住房'\n",
    "data[feature].value_counts()"
   ]
  },
  {
   "cell_type": "code",
   "execution_count": 17,
   "metadata": {},
   "outputs": [
    {
     "data": {
      "text/plain": [
       "1          33262\n",
       "0           3802\n",
       "unknown     3620\n",
       "Name: 唯一住房, dtype: int64"
      ]
     },
     "execution_count": 17,
     "metadata": {},
     "output_type": "execute_result"
    }
   ],
   "source": [
    "for i in range(data.shape[0]):\n",
    "    if data.loc[i,feature] == '否':\n",
    "        data.loc[i,feature] = 0\n",
    "    elif data.loc[i,feature] == '是':\n",
    "        data.loc[i,feature] = 1\n",
    "    else:\n",
    "        data.loc[i,feature] = 'unknown'\n",
    "data[feature].value_counts()"
   ]
  },
  {
   "cell_type": "code",
   "execution_count": 18,
   "metadata": {},
   "outputs": [],
   "source": [
    "feature = '房屋单价'\n",
    "for i in range(data.shape[0]):\n",
    "    str = re.findall(r\"\\d+\",data.loc[i,feature])\n",
    "    if str:\n",
    "        data.loc[i,feature] = int(str[0])\n",
    "    else:\n",
    "        data.loc[i,feature] = 'unknown'\n",
    "        print('error in ', i)"
   ]
  },
  {
   "cell_type": "code",
   "execution_count": 19,
   "metadata": {},
   "outputs": [
    {
     "data": {
      "text/plain": [
       "50000     188\n",
       "40000     153\n",
       "33333      95\n",
       "42857      84\n",
       "45455      73\n",
       "37500      61\n",
       "44444      57\n",
       "41667      56\n",
       "32000      55\n",
       "25000      46\n",
       "47059      45\n",
       "35714      44\n",
       "46154      42\n",
       "44118      41\n",
       "36000      40\n",
       "35000      40\n",
       "38462      39\n",
       "45000      36\n",
       "53846      34\n",
       "46875      33\n",
       "100000     31\n",
       "60000      30\n",
       "36364      29\n",
       "43333      28\n",
       "37037      28\n",
       "36667      28\n",
       "43860      27\n",
       "43478      27\n",
       "38596      26\n",
       "48000      26\n",
       "         ... \n",
       "43623       1\n",
       "70224       1\n",
       "59983       1\n",
       "39713       1\n",
       "21304       1\n",
       "109543      1\n",
       "62348       1\n",
       "33762       1\n",
       "35779       1\n",
       "39873       1\n",
       "23481       1\n",
       "78772       1\n",
       "48037       1\n",
       "27551       1\n",
       "31645       1\n",
       "72593       1\n",
       "60303       1\n",
       "56201       1\n",
       "25406       1\n",
       "54152       1\n",
       "48005       1\n",
       "37760       1\n",
       "84859       1\n",
       "86904       1\n",
       "35683       1\n",
       "39777       1\n",
       "93023       1\n",
       "35651       1\n",
       "37696       1\n",
       "75781       1\n",
       "Name: 房屋单价, Length: 18963, dtype: int64"
      ]
     },
     "execution_count": 19,
     "metadata": {},
     "output_type": "execute_result"
    }
   ],
   "source": [
    "data[feature].value_counts()"
   ]
  },
  {
   "cell_type": "code",
   "execution_count": 20,
   "metadata": {},
   "outputs": [],
   "source": [
    "feature = '参考首付'\n",
    "for i in range(data.shape[0]):\n",
    "    str = re.findall(r\"\\d+.?\\d+\",data.loc[i,feature])\n",
    "    if str:\n",
    "        data.loc[i,feature] = float(str[0])\n",
    "    else:\n",
    "        data.loc[i,feature] = 'unknown'\n",
    "        print('error in ', i)"
   ]
  },
  {
   "cell_type": "code",
   "execution_count": 21,
   "metadata": {},
   "outputs": [
    {
     "data": {
      "text/plain": [
       "90.00      718\n",
       "60.00      613\n",
       "84.00      601\n",
       "63.00      505\n",
       "120.00     502\n",
       "78.00      495\n",
       "75.00      483\n",
       "96.00      473\n",
       "135.00     473\n",
       "54.00      464\n",
       "66.00      464\n",
       "69.00      456\n",
       "72.00      452\n",
       "81.00      437\n",
       "57.00      436\n",
       "150.00     404\n",
       "99.00      390\n",
       "51.00      390\n",
       "126.00     384\n",
       "105.00     384\n",
       "93.00      383\n",
       "87.00      363\n",
       "45.00      345\n",
       "144.00     339\n",
       "114.00     328\n",
       "48.00      325\n",
       "108.00     311\n",
       "129.00     297\n",
       "180.00     290\n",
       "55.50      286\n",
       "          ... \n",
       "211.80       1\n",
       "210.24       1\n",
       "1890.10      1\n",
       "82.14        1\n",
       "657.10       1\n",
       "103.98       1\n",
       "93.80        1\n",
       "46.95        1\n",
       "83.41        1\n",
       "104.46       1\n",
       "1926.00      1\n",
       "1935.10      1\n",
       "45.03        1\n",
       "204.24       1\n",
       "1860.10      1\n",
       "90.15        1\n",
       "207.30       1\n",
       "177.90       1\n",
       "1830.00      1\n",
       "239.55       1\n",
       "54.45        1\n",
       "156.15       1\n",
       "1797.10      1\n",
       "645.01       1\n",
       "43.08        1\n",
       "1095.00      1\n",
       "70.74        1\n",
       "1770.00      1\n",
       "1764.10      1\n",
       "224.64       1\n",
       "Name: 参考首付, Length: 1988, dtype: int64"
      ]
     },
     "execution_count": 21,
     "metadata": {},
     "output_type": "execute_result"
    }
   ],
   "source": [
    "data[feature].value_counts()"
   ]
  },
  {
   "cell_type": "code",
   "execution_count": 22,
   "metadata": {},
   "outputs": [
    {
     "data": {
      "text/plain": [
       "精装修     25529\n",
       "简单装修     7785\n",
       "毛坯       4275\n",
       "豪华装修     3095\n",
       "Name: 装修程度, dtype: int64"
      ]
     },
     "execution_count": 22,
     "metadata": {},
     "output_type": "execute_result"
    }
   ],
   "source": [
    "feature = '装修程度'\n",
    "data[feature].value_counts()"
   ]
  },
  {
   "cell_type": "code",
   "execution_count": 23,
   "metadata": {},
   "outputs": [],
   "source": [
    "deco_type_dic = {'毛坯':1,'简单装修':2,'精装修':3,'豪华装修':4}\n",
    "for i in range(data.shape[0]):\n",
    "    data.loc[i,feature] = deco_type_dic[data.loc[i,feature]]"
   ]
  },
  {
   "cell_type": "code",
   "execution_count": 24,
   "metadata": {},
   "outputs": [
    {
     "data": {
      "text/plain": [
       "3    25529\n",
       "2     7785\n",
       "1     4275\n",
       "4     3095\n",
       "Name: 装修程度, dtype: int64"
      ]
     },
     "execution_count": 24,
     "metadata": {},
     "output_type": "execute_result"
    }
   ],
   "source": [
    "data[feature].value_counts()"
   ]
  },
  {
   "cell_type": "code",
   "execution_count": 25,
   "metadata": {},
   "outputs": [
    {
     "data": {
      "text/plain": [
       "否    40099\n",
       "是      585\n",
       "Name: 一手房源, dtype: int64"
      ]
     },
     "execution_count": 25,
     "metadata": {},
     "output_type": "execute_result"
    }
   ],
   "source": [
    "feature = '一手房源'\n",
    "data[feature].value_counts()"
   ]
  },
  {
   "cell_type": "code",
   "execution_count": 26,
   "metadata": {},
   "outputs": [
    {
     "data": {
      "text/plain": [
       "0    40099\n",
       "1      585\n",
       "Name: 一手房源, dtype: int64"
      ]
     },
     "execution_count": 26,
     "metadata": {},
     "output_type": "execute_result"
    }
   ],
   "source": [
    "for i in range(data.shape[0]):\n",
    "    if data.loc[i,feature] == '否':\n",
    "        data.loc[i,feature] = 0\n",
    "    elif data.loc[i,feature] == '是':\n",
    "        data.loc[i,feature] = 1\n",
    "    else:\n",
    "        data.loc[i,feature] = 'unknown'\n",
    "data[feature].value_counts()"
   ]
  },
  {
   "cell_type": "code",
   "execution_count": 27,
   "metadata": {},
   "outputs": [
    {
     "data": {
      "text/plain": [
       "满五年     30757\n",
       "满二年      7608\n",
       "不满二年     2210\n",
       "暂无        109\n",
       "Name: 房本年限, dtype: int64"
      ]
     },
     "execution_count": 27,
     "metadata": {},
     "output_type": "execute_result"
    }
   ],
   "source": [
    "feature = '房本年限'\n",
    "data[feature].value_counts()"
   ]
  },
  {
   "cell_type": "code",
   "execution_count": 28,
   "metadata": {},
   "outputs": [
    {
     "data": {
      "text/plain": [
       "3          30757\n",
       "2           7608\n",
       "1           2210\n",
       "unknown      109\n",
       "Name: 房本年限, dtype: int64"
      ]
     },
     "execution_count": 28,
     "metadata": {},
     "output_type": "execute_result"
    }
   ],
   "source": [
    "time_dic = {'不满二年':1,'满二年':2,'满五年':3,'暂无':'unknown'}\n",
    "for i in range(data.shape[0]):\n",
    "    data.loc[i,feature] = time_dic[data.loc[i,feature]]\n",
    "data[feature].value_counts()"
   ]
  },
  {
   "cell_type": "code",
   "execution_count": 29,
   "metadata": {},
   "outputs": [
    {
     "data": {
      "text/plain": [
       "中层(共6层)     8137\n",
       "高层(共6层)     5368\n",
       "低层(共6层)     5098\n",
       "中层(共18层)    2178\n",
       "低层(共18层)    1700\n",
       "高层(共18层)    1617\n",
       "共5层         1139\n",
       "中层(共14层)     954\n",
       "共3层          896\n",
       "中层(共11层)     839\n",
       "高层(共14层)     769\n",
       "高层(共11层)     745\n",
       "低层(共14层)     635\n",
       "低层(共11层)     571\n",
       "共4层          499\n",
       "中层(共12层)     439\n",
       "中层(共16层)     436\n",
       "中层(共17层)     431\n",
       "高层(共16层)     402\n",
       "高层(共12层)     377\n",
       "高层(共8层)      328\n",
       "高层(共7层)      296\n",
       "中层(共8层)      285\n",
       "低层(共12层)     273\n",
       "低层(共17层)     244\n",
       "高层(共24层)     239\n",
       "高层(共17层)     235\n",
       "共2层          233\n",
       "低层(共16层)     230\n",
       "中层(共15层)     216\n",
       "            ... \n",
       "高层(共32层)      32\n",
       "低层(共32层)      30\n",
       "中层(共31层)      29\n",
       "高层(共27层)      29\n",
       "地下(共3层)       27\n",
       "低层(共19层)      27\n",
       "高层(共29层)      27\n",
       "低层(共23层)      25\n",
       "低层(共27层)      25\n",
       "低层(共29层)      20\n",
       "中层(共32层)      20\n",
       "高层(共23层)      20\n",
       "低层(共31层)      19\n",
       "地下(共4层)        5\n",
       "高层(共35层)       5\n",
       "中层(共35层)       4\n",
       "地下(共2层)        4\n",
       "低层(共35层)       3\n",
       "低层(共39层)       3\n",
       "中层(共36层)       2\n",
       "低层(共66层)       2\n",
       "高层(共40层)       2\n",
       "低层(共80层)       1\n",
       "高层(共36层)       1\n",
       "地下(共1层)        1\n",
       "低层(共34层)       1\n",
       "低层(共37层)       1\n",
       "中层(共39层)       1\n",
       "低层(共70层)       1\n",
       "低层(共41层)       1\n",
       "Name: 所在楼层, Length: 107, dtype: int64"
      ]
     },
     "execution_count": 29,
     "metadata": {},
     "output_type": "execute_result"
    }
   ],
   "source": [
    "feature = '所在楼层'\n",
    "data[feature].value_counts()"
   ]
  },
  {
   "cell_type": "code",
   "execution_count": 30,
   "metadata": {},
   "outputs": [],
   "source": [
    "for i in range(data.shape[0]):\n",
    "    str = data.loc[i,feature]\n",
    "    if '低层' in str:\n",
    "        data.loc[i,feature] = 2\n",
    "    elif '中层' in str:\n",
    "        data.loc[i,feature] = 3\n",
    "    elif '地下' in str:\n",
    "        data.loc[i,feature] = 1\n",
    "    elif '高层' in str:\n",
    "        data.loc[i,feature] = 4\n",
    "    else:\n",
    "        data.loc[i,feature] = 2"
   ]
  },
  {
   "cell_type": "code",
   "execution_count": 31,
   "metadata": {},
   "outputs": [],
   "source": [
    "data.to_csv('pro_info.csv',sep=',',encoding='utf_8_sig')"
   ]
  },
  {
   "cell_type": "code",
   "execution_count": 32,
   "metadata": {},
   "outputs": [
    {
     "name": "stdout",
     "output_type": "stream",
     "text": [
      "[1, 1, 1]\n"
     ]
    }
   ],
   "source": [
    "feature = '房屋户型'\n",
    "str = re.findall(r\"\\d\",data.loc[i,feature])\n",
    "results = list(map(int, str))\n",
    "print(results)"
   ]
  },
  {
   "cell_type": "code",
   "execution_count": 33,
   "metadata": {},
   "outputs": [
    {
     "name": "stdout",
     "output_type": "stream",
     "text": [
      "\n",
      "\t\t\t\t3室\n",
      "\t\t\t\t2厅\n",
      "\t\t\t\t2卫\n",
      "\t\t\t\n"
     ]
    },
    {
     "data": {
      "text/plain": [
       "40684"
      ]
     },
     "execution_count": 33,
     "metadata": {},
     "output_type": "execute_result"
    }
   ],
   "source": [
    "df = pd.DataFrame(columns=('室','厅','卫'))\n",
    "print(data.loc[1635,feature])\n",
    "for i in range(data.shape[0]):\n",
    "    str = re.findall(r\"\\d+\", data.loc[i,feature])\n",
    "    result = list(map(int, str))\n",
    "    if(len(str) != 3):\n",
    "        print('error in ',i)\n",
    "    df.loc[i] = result\n",
    "df.shape[0]\n",
    "    "
   ]
  },
  {
   "cell_type": "code",
   "execution_count": 34,
   "metadata": {},
   "outputs": [],
   "source": [
    "data = data.drop(labels=feature, axis=1)\n",
    "data = pd.concat([data, df], axis=1)"
   ]
  },
  {
   "cell_type": "code",
   "execution_count": 35,
   "metadata": {},
   "outputs": [
    {
     "name": "stdout",
     "output_type": "stream",
     "text": [
      "<class 'pandas.core.frame.DataFrame'>\n",
      "RangeIndex: 40684 entries, 0 to 40683\n",
      "Data columns (total 21 columns):\n",
      "Unnamed: 0    40684 non-null int64\n",
      "所属小区          40684 non-null object\n",
      "所在位置          40684 non-null object\n",
      "建造年代          40684 non-null object\n",
      "房屋类型          40684 non-null object\n",
      "产权年限          40684 non-null int64\n",
      "产权性质          40684 non-null object\n",
      "建筑面积          40684 non-null object\n",
      "房屋朝向          40684 non-null int64\n",
      "所在楼层          40684 non-null int64\n",
      "配套电梯          40684 non-null object\n",
      "唯一住房          40684 non-null object\n",
      "房屋单价          40684 non-null int64\n",
      "参考首付          40684 non-null object\n",
      "参考月供          40684 non-null object\n",
      "装修程度          40684 non-null int64\n",
      "房本年限          40684 non-null object\n",
      "一手房源          40684 non-null int64\n",
      "室             40684 non-null object\n",
      "厅             40684 non-null object\n",
      "卫             40684 non-null object\n",
      "dtypes: int64(7), object(14)\n",
      "memory usage: 6.5+ MB\n"
     ]
    }
   ],
   "source": [
    "data.info()"
   ]
  },
  {
   "cell_type": "code",
   "execution_count": 36,
   "metadata": {},
   "outputs": [],
   "source": [
    "data = data.drop(labels='参考月供',axis=1)"
   ]
  },
  {
   "cell_type": "code",
   "execution_count": 37,
   "metadata": {},
   "outputs": [
    {
     "name": "stdout",
     "output_type": "stream",
     "text": [
      "<class 'pandas.core.frame.DataFrame'>\n",
      "RangeIndex: 40684 entries, 0 to 40683\n",
      "Data columns (total 20 columns):\n",
      "Unnamed: 0    40684 non-null int64\n",
      "所属小区          40684 non-null object\n",
      "所在位置          40684 non-null object\n",
      "建造年代          40684 non-null object\n",
      "房屋类型          40684 non-null object\n",
      "产权年限          40684 non-null int64\n",
      "产权性质          40684 non-null object\n",
      "建筑面积          40684 non-null object\n",
      "房屋朝向          40684 non-null int64\n",
      "所在楼层          40684 non-null int64\n",
      "配套电梯          40684 non-null object\n",
      "唯一住房          40684 non-null object\n",
      "房屋单价          40684 non-null int64\n",
      "参考首付          40684 non-null object\n",
      "装修程度          40684 non-null int64\n",
      "房本年限          40684 non-null object\n",
      "一手房源          40684 non-null int64\n",
      "室             40684 non-null object\n",
      "厅             40684 non-null object\n",
      "卫             40684 non-null object\n",
      "dtypes: int64(7), object(13)\n",
      "memory usage: 6.2+ MB\n"
     ]
    }
   ],
   "source": [
    "data.info()"
   ]
  },
  {
   "cell_type": "code",
   "execution_count": 38,
   "metadata": {},
   "outputs": [],
   "source": [
    "data.to_csv('house_2.csv',sep=',',encoding='utf_8_sig')"
   ]
  },
  {
   "cell_type": "code",
   "execution_count": 39,
   "metadata": {},
   "outputs": [],
   "source": [
    "data = data.drop(labels='Unnamed: 0', axis=1)\n",
    "data.to_csv('house_2.csv',sep=',',encoding='utf_8_sig')"
   ]
  },
  {
   "cell_type": "code",
   "execution_count": 40,
   "metadata": {},
   "outputs": [],
   "source": [
    "feature='所在位置'\n",
    "for i in range(data.shape[0]):    \n",
    "    str = data.loc[i,feature].replace(\"\\n\",\"\").replace(\"\\t\",\"\").replace(\" \",\"\")\n",
    "    slist = str.split(\"－\")\n",
    "    data.loc[i,feature] = slist[0] + slist[1]"
   ]
  },
  {
   "cell_type": "code",
   "execution_count": 41,
   "metadata": {},
   "outputs": [],
   "source": [
    "feature = '所属小区'\n",
    "for i in range(data.shape[0]):\n",
    "    str = data.loc[i,feature].replace(\"\\n\",\"\").replace(\"\\t\",\"\").replace(\" \",\"\")\n",
    "    if str == '暂无':\n",
    "        str = 'unknown'\n",
    "    data.loc[i,feature] = str"
   ]
  },
  {
   "cell_type": "code",
   "execution_count": 42,
   "metadata": {},
   "outputs": [],
   "source": [
    "data.to_csv('house_3.csv',sep=',',encoding='utf_8_sig')"
   ]
  },
  {
   "cell_type": "code",
   "execution_count": null,
   "metadata": {},
   "outputs": [],
   "source": []
  }
 ],
 "metadata": {
  "kernelspec": {
   "display_name": "Python 3",
   "language": "python",
   "name": "python3"
  },
  "language_info": {
   "codemirror_mode": {
    "name": "ipython",
    "version": 3
   },
   "file_extension": ".py",
   "mimetype": "text/x-python",
   "name": "python",
   "nbconvert_exporter": "python",
   "pygments_lexer": "ipython3",
   "version": "3.7.3"
  }
 },
 "nbformat": 4,
 "nbformat_minor": 2
}
